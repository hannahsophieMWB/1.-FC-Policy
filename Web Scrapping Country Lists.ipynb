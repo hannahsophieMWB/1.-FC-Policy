{
 "cells": [
  {
   "cell_type": "markdown",
   "metadata": {},
   "source": [
    "# Web Scrapping\n",
    "\n",
    "This python script has the objective to scrape tables from the web relevant for country risk assessment\n",
    "All sources are public and no \n",
    "\n",
    "\n",
    "\n"
   ]
  },
  {
   "cell_type": "markdown",
   "metadata": {},
   "source": [
    "# Libraries"
   ]
  },
  {
   "cell_type": "code",
   "execution_count": 11,
   "metadata": {},
   "outputs": [
    {
     "ename": "ModuleNotFoundError",
     "evalue": "No module named 'codecademylib3_seaborn'",
     "output_type": "error",
     "traceback": [
      "\u001b[0;31m---------------------------------------------------------------------------\u001b[0m",
      "\u001b[0;31mModuleNotFoundError\u001b[0m                       Traceback (most recent call last)",
      "\u001b[0;32m<ipython-input-11-f765e38fc501>\u001b[0m in \u001b[0;36m<module>\u001b[0;34m\u001b[0m\n\u001b[0;32m----> 1\u001b[0;31m \u001b[0;32mimport\u001b[0m \u001b[0mcodecademylib3_seaborn\u001b[0m\u001b[0;34m\u001b[0m\u001b[0;34m\u001b[0m\u001b[0m\n\u001b[0m\u001b[1;32m      2\u001b[0m \u001b[0;32mfrom\u001b[0m \u001b[0mbs4\u001b[0m \u001b[0;32mimport\u001b[0m \u001b[0mBeautifulSoup\u001b[0m\u001b[0;34m\u001b[0m\u001b[0;34m\u001b[0m\u001b[0m\n\u001b[1;32m      3\u001b[0m \u001b[0;32mimport\u001b[0m \u001b[0mrequests\u001b[0m\u001b[0;34m\u001b[0m\u001b[0;34m\u001b[0m\u001b[0m\n\u001b[1;32m      4\u001b[0m \u001b[0;32mimport\u001b[0m \u001b[0mpandas\u001b[0m \u001b[0;32mas\u001b[0m \u001b[0mpd\u001b[0m\u001b[0;34m\u001b[0m\u001b[0;34m\u001b[0m\u001b[0m\n\u001b[1;32m      5\u001b[0m \u001b[0;32mimport\u001b[0m \u001b[0mmatplotlib\u001b[0m\u001b[0;34m.\u001b[0m\u001b[0mpyplot\u001b[0m \u001b[0;32mas\u001b[0m \u001b[0mplt\u001b[0m\u001b[0;34m\u001b[0m\u001b[0;34m\u001b[0m\u001b[0m\n",
      "\u001b[0;31mModuleNotFoundError\u001b[0m: No module named 'codecademylib3_seaborn'"
     ]
    }
   ],
   "source": [
    "import codecademylib3_seaborn\n",
    "from bs4 import BeautifulSoup\n",
    "import requests\n",
    "import pandas as pd\n",
    "import matplotlib.pyplot as plt\n",
    "import numpy as np\n",
    "import re\n",
    " \n"
   ]
  },
  {
   "cell_type": "markdown",
   "metadata": {},
   "source": [
    "# Relevant webpages"
   ]
  },
  {
   "cell_type": "code",
   "execution_count": 12,
   "metadata": {},
   "outputs": [],
   "source": [
    "webpage_response = requests.get('https://ec.europa.eu/info/business-economy-euro/banking-and-finance/financial-supervision-and-risk-management/anti-money-laundering-and-counter-terrorist-financing/eu-policy-high-risk-third-countries_en')\n",
    "# print(webpage.text)\n",
    "\n",
    "webpage = webpage_response.content\n"
   ]
  },
  {
   "cell_type": "markdown",
   "metadata": {},
   "source": [
    "# Scrape "
   ]
  },
  {
   "cell_type": "code",
   "execution_count": 16,
   "metadata": {},
   "outputs": [
    {
     "name": "stdout",
     "output_type": "stream",
     "text": [
      "[\"The two-tiered approach and the EU's eight building blocks assessment for identifying high-risk third countriesFebruary 2019English  (64.8 KB - PNG)DownloadPNG - 64.8 KB\", 'The following timeline displays the implementation of the methodology to identify high-risk third countries.\\n2017Stage 1: Designing Phase\\n\\nPreparation of a new methodology\\nInternational engagement\\nEngagement with the European Parliament and the Member States\\n\\n22 June 2018Adoption of the first methodology for identifying high risk third countries\\n2018Stage 2: Initial scoping/selection phase\\n\\nPre-assessment of all third countries based on economic and socio-political criteria\\nIdentification of Priority\\xa01 (to be assessed by end of\\xa02018) and Priority\\xa02 (to be assessed progressively by\\xa02025) countries\\nPublication of results of selection phase on 13\\xa0November\\xa02018\\n\\n31 December 2018Stage 3: Assessment Phase – Priority\\xa01 countries\\n\\nAssessment of countries that have been identified as Priority\\xa01 countries based on listing criteria using various information sources\\n\\n13 February 2019Adoption of new EU Delegated Act on high-risk third countries (based on first methodology) - rejected\\n7 May 2020\\nAdoption of new EU delegated act on high-risk third countries\\nPublication of revised EU methodology for the identification of high-risk third countries\\n\\n31.12.2025Stage 4: Assessment Phase – Priority 2 countries and follow up\\n\\nGradual assessment of remaining countries\\nFollow-up of countries listed following stage 3\\nMonitoring of reviewed countries\\n\\n', 'List of countries in the scope of the EU assessment on high risk third countries under Directive (EU) 2015/849 and list of priority 1 countries (for assessment in 2018)14 November 2018English  (233 KB - PDF)DownloadPDF - 233 KB', 'Based on Directive (EU) 2015/849 and the Commission’s power of adopting delegated acts regarding high-risk third countries, the Commission adopted the following delegated acts:\\n14 July 2016First EU list – based on FATF lists (Delegated Regulation (EU) 1675/2016).\\n27 October 2017Delegated Regulation (EU) 2018/105 amending the EU\\xa0list.\\n13 December 2017Delegated Regulation (EU) 2018/212 amending the EU list.\\n22 June 2018First methodology for identifying high risk third countries:\\n\\nFATF lists as a baseline\\nadditional countries based on EU own assessment\\n\\n27 July 2018Delegated Regulation (EU) 2018/1467 amending the EU list.\\n7 May 2020Revised methodology for identifying high risk third countries:\\n\\nFATF lists as a baseline/ and increased synergies with FATF listing process;\\nadditional countries based on EU own assessment based on increased engagement;\\nEnhanced consultation of Member States’ experts.\\n\\nDelegated Regulation (EU) amending the EU list\\n7 December 2020Delegated Regulation (EU) 2021/37 amending the EU list.\\n']\n"
     ]
    }
   ],
   "source": [
    "# Create  a soup object\n",
    "\n",
    "soup = BeautifulSoup(webpage, 'html.parser')\n",
    "\n",
    "# print(soup)\n",
    "\n",
    "# search and print all available classes\n",
    "classes = []\n",
    "for element in soup.find_all(class_=True):\n",
    "     classes.extend(element[\"class\"])\n",
    "     \n",
    "     \n",
    "# print(classes)\n",
    "\n",
    "# find a particular class\n",
    "\n",
    "listing = soup.find_all(attrs={\"class\": \"listing__item\"})\n",
    "#print(listing)\n",
    "\n",
    "# \n",
    "country_list = []\n",
    "for c in listing[1:]:\n",
    "  country_list.append(c.get_text())\n",
    "print(country_list)\n"
   ]
  },
  {
   "cell_type": "code",
   "execution_count": null,
   "metadata": {},
   "outputs": [],
   "source": []
  }
 ],
 "metadata": {
  "kernelspec": {
   "display_name": "Python 3",
   "language": "python",
   "name": "python3"
  },
  "language_info": {
   "codemirror_mode": {
    "name": "ipython",
    "version": 3
   },
   "file_extension": ".py",
   "mimetype": "text/x-python",
   "name": "python",
   "nbconvert_exporter": "python",
   "pygments_lexer": "ipython3",
   "version": "3.8.5"
  }
 },
 "nbformat": 4,
 "nbformat_minor": 4
}

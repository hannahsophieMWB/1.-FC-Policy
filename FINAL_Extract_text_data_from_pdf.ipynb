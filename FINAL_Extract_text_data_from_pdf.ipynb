{
  "nbformat": 4,
  "nbformat_minor": 0,
  "metadata": {
    "colab": {
      "name": "FINAL_Extract text data from pdf.ipynb",
      "provenance": [],
      "collapsed_sections": [],
      "toc_visible": true
    },
    "kernelspec": {
      "name": "python3",
      "display_name": "Python 3"
    }
  },
  "cells": [
    {
      "cell_type": "markdown",
      "metadata": {
        "id": "p8yf4R01VeEV"
      },
      "source": [
        "# Willkommen!\n"
      ]
    },
    {
      "cell_type": "markdown",
      "metadata": {
        "id": "59CrjG_pUXZC"
      },
      "source": [
        "Hannah, \n",
        "\n",
        "I've pasted the code you sent me here so we can work on that together :)\n",
        "\n",
        "You can learn more about Google Colab here:\n",
        "https://colab.research.google.com/notebooks/intro.ipynb\n",
        "\n"
      ]
    },
    {
      "cell_type": "markdown",
      "metadata": {
        "id": "0zEDxy19TW_D"
      },
      "source": [
        "## Install libraries"
      ]
    },
    {
      "cell_type": "code",
      "metadata": {
        "id": "8jWIGCwRPYws",
        "colab": {
          "base_uri": "https://localhost:8080/"
        },
        "outputId": "d23770c3-b512-4d61-a700-283b9cb189c6"
      },
      "source": [
        "import os\n",
        "\n",
        "def restart_runtime():\n",
        "  os.kill(os.getpid(), 9)\n",
        "\n",
        "!pip3 install PyPDF2\n",
        "!pip3 install pandas as pd\n",
        "!pip3 install pdfplumber\n",
        "\n",
        "# Import the required Module\n",
        "!pip3 install tabula-py\n",
        "import tabula # for pdf \n",
        "\n",
        "import PyPDF2\n",
        "\n",
        "# xml_exporter.py\n",
        "\n",
        "import re\n",
        "import pdfplumber\n",
        "import pandas as pd\n",
        "import collections\n",
        "from collections import namedtuple"
      ],
      "execution_count": 18,
      "outputs": [
        {
          "output_type": "stream",
          "text": [
            "Requirement already satisfied: PyPDF2 in /usr/local/lib/python3.7/dist-packages (1.26.0)\n",
            "Requirement already satisfied: pandas in /usr/local/lib/python3.7/dist-packages (1.1.5)\n",
            "Requirement already satisfied: as in /usr/local/lib/python3.7/dist-packages (0.1)\n",
            "Requirement already satisfied: pd in /usr/local/lib/python3.7/dist-packages (0.0.1)\n",
            "Requirement already satisfied: pytz>=2017.2 in /usr/local/lib/python3.7/dist-packages (from pandas) (2018.9)\n",
            "Requirement already satisfied: python-dateutil>=2.7.3 in /usr/local/lib/python3.7/dist-packages (from pandas) (2.8.1)\n",
            "Requirement already satisfied: numpy>=1.15.4 in /usr/local/lib/python3.7/dist-packages (from pandas) (1.19.5)\n",
            "Requirement already satisfied: six>=1.5 in /usr/local/lib/python3.7/dist-packages (from python-dateutil>=2.7.3->pandas) (1.15.0)\n",
            "Requirement already satisfied: pdfplumber in /usr/local/lib/python3.7/dist-packages (0.5.28)\n",
            "Requirement already satisfied: Pillow>=7.0.0 in /usr/local/lib/python3.7/dist-packages (from pdfplumber) (7.1.2)\n",
            "Requirement already satisfied: pdfminer.six==20200517 in /usr/local/lib/python3.7/dist-packages (from pdfplumber) (20200517)\n",
            "Requirement already satisfied: Wand in /usr/local/lib/python3.7/dist-packages (from pdfplumber) (0.6.6)\n",
            "Requirement already satisfied: chardet; python_version > \"3.0\" in /usr/local/lib/python3.7/dist-packages (from pdfminer.six==20200517->pdfplumber) (3.0.4)\n",
            "Requirement already satisfied: pycryptodome in /usr/local/lib/python3.7/dist-packages (from pdfminer.six==20200517->pdfplumber) (3.10.1)\n",
            "Requirement already satisfied: sortedcontainers in /usr/local/lib/python3.7/dist-packages (from pdfminer.six==20200517->pdfplumber) (2.3.0)\n",
            "Collecting tabula-py\n",
            "\u001b[?25l  Downloading https://files.pythonhosted.org/packages/cf/29/d6cb0d77ef46d84d35cffa09cf42c73b373aea664d28604eab6818f8a47c/tabula_py-2.2.0-py3-none-any.whl (11.7MB)\n",
            "\u001b[K     |████████████████████████████████| 11.7MB 7.1MB/s \n",
            "\u001b[?25hCollecting distro\n",
            "  Downloading https://files.pythonhosted.org/packages/25/b7/b3c4270a11414cb22c6352ebc7a83aaa3712043be29daa05018fd5a5c956/distro-1.5.0-py2.py3-none-any.whl\n",
            "Requirement already satisfied: pandas>=0.25.3 in /usr/local/lib/python3.7/dist-packages (from tabula-py) (1.1.5)\n",
            "Requirement already satisfied: numpy in /usr/local/lib/python3.7/dist-packages (from tabula-py) (1.19.5)\n",
            "Requirement already satisfied: python-dateutil>=2.7.3 in /usr/local/lib/python3.7/dist-packages (from pandas>=0.25.3->tabula-py) (2.8.1)\n",
            "Requirement already satisfied: pytz>=2017.2 in /usr/local/lib/python3.7/dist-packages (from pandas>=0.25.3->tabula-py) (2018.9)\n",
            "Requirement already satisfied: six>=1.5 in /usr/local/lib/python3.7/dist-packages (from python-dateutil>=2.7.3->pandas>=0.25.3->tabula-py) (1.15.0)\n",
            "Installing collected packages: distro, tabula-py\n",
            "Successfully installed distro-1.5.0 tabula-py-2.2.0\n"
          ],
          "name": "stdout"
        }
      ]
    },
    {
      "cell_type": "markdown",
      "metadata": {
        "id": "ikY03HV9WVFh"
      },
      "source": [
        "# CODE"
      ]
    },
    {
      "cell_type": "markdown",
      "metadata": {
        "id": "KlpUzEokz6RI"
      },
      "source": [
        "Libraries and imports"
      ]
    },
    {
      "cell_type": "code",
      "metadata": {
        "id": "rhNNrhKc8hZR",
        "colab": {
          "base_uri": "https://localhost:8080/"
        },
        "outputId": "8157796d-7ede-4d8f-b68c-b8c2018240ac"
      },
      "source": [
        "# accessing files in gdrive\n",
        "\n",
        "from google.colab import drive\n",
        "drive.mount('/gdrive')\n",
        "% cd /gdrive\n",
        "\n",
        "\n",
        "# file path\n",
        "file_path = r'/gdrive/MyDrive/Women in Tech Mentorship 2021/Project #1 /Documents/Final Report on Guidelines on revised ML TF Risk Factors.pdf'\n",
        "\n"
      ],
      "execution_count": 5,
      "outputs": [
        {
          "output_type": "stream",
          "text": [
            "Mounted at /gdrive\n",
            "/gdrive\n"
          ],
          "name": "stdout"
        }
      ]
    },
    {
      "cell_type": "markdown",
      "metadata": {
        "id": "qc9qofsTKLeo"
      },
      "source": [
        "function for conversion from pdf to xml for parsing"
      ]
    },
    {
      "cell_type": "markdown",
      "metadata": {
        "id": "2OnaG-q-2DPW"
      },
      "source": [
        "**Testing of section names**"
      ]
    },
    {
      "cell_type": "code",
      "metadata": {
        "colab": {
          "base_uri": "https://localhost:8080/",
          "height": 375
        },
        "id": "zf1JCFhpMdp_",
        "outputId": "4055ba28-b587-4a7c-e9b1-8557b1690b75"
      },
      "source": [
        "# EBA = pdfplumber.open(file_path)\n",
        "# page = EBA.pages[100]\n",
        "# text = page.extract_text()\n",
        "# text\n",
        "# print(text)\n",
        "\n",
        "# get all pages\n",
        "with pdfplumber.open(file_path) as pdf:\n",
        "  for pdf_page in pdf.pages:\n",
        "    single_page_text = pdf_page.extract_text()\n",
        "    # print( single_page_text )\n",
        "    # separate each page's text with newline\n",
        "    # all_text = all_text + '\\n' + single_page_text\n",
        "    print(all_text)\n",
        "# print(single_page_text)\n",
        "\n",
        "\n"
      ],
      "execution_count": 34,
      "outputs": [
        {
          "output_type": "error",
          "ename": "KeyboardInterrupt",
          "evalue": "ignored",
          "traceback": [
            "\u001b[0;31m---------------------------------------------------------------------------\u001b[0m",
            "\u001b[0;31mKeyboardInterrupt\u001b[0m                         Traceback (most recent call last)",
            "\u001b[0;32m<ipython-input-34-2539f7f45704>\u001b[0m in \u001b[0;36m<module>\u001b[0;34m()\u001b[0m\n\u001b[1;32m      8\u001b[0m \u001b[0;32mwith\u001b[0m \u001b[0mpdfplumber\u001b[0m\u001b[0;34m.\u001b[0m\u001b[0mopen\u001b[0m\u001b[0;34m(\u001b[0m\u001b[0mfile_path\u001b[0m\u001b[0;34m)\u001b[0m \u001b[0;32mas\u001b[0m \u001b[0mpdf\u001b[0m\u001b[0;34m:\u001b[0m\u001b[0;34m\u001b[0m\u001b[0;34m\u001b[0m\u001b[0m\n\u001b[1;32m      9\u001b[0m   \u001b[0;32mfor\u001b[0m \u001b[0mpdf_page\u001b[0m \u001b[0;32min\u001b[0m \u001b[0mpdf\u001b[0m\u001b[0;34m.\u001b[0m\u001b[0mpages\u001b[0m\u001b[0;34m:\u001b[0m\u001b[0;34m\u001b[0m\u001b[0;34m\u001b[0m\u001b[0m\n\u001b[0;32m---> 10\u001b[0;31m     \u001b[0msingle_page_text\u001b[0m \u001b[0;34m=\u001b[0m \u001b[0mpdf_page\u001b[0m\u001b[0;34m.\u001b[0m\u001b[0mextract_text\u001b[0m\u001b[0;34m(\u001b[0m\u001b[0;34m)\u001b[0m\u001b[0;34m\u001b[0m\u001b[0;34m\u001b[0m\u001b[0m\n\u001b[0m\u001b[1;32m     11\u001b[0m     \u001b[0;31m# print( single_page_text )\u001b[0m\u001b[0;34m\u001b[0m\u001b[0;34m\u001b[0m\u001b[0;34m\u001b[0m\u001b[0m\n\u001b[1;32m     12\u001b[0m     \u001b[0;31m# separate each page's text with newline\u001b[0m\u001b[0;34m\u001b[0m\u001b[0;34m\u001b[0m\u001b[0;34m\u001b[0m\u001b[0m\n",
            "\u001b[0;32m/usr/local/lib/python3.7/dist-packages/pdfplumber/page.py\u001b[0m in \u001b[0;36mextract_text\u001b[0;34m(self, **kwargs)\u001b[0m\n\u001b[1;32m    267\u001b[0m \u001b[0;34m\u001b[0m\u001b[0m\n\u001b[1;32m    268\u001b[0m     \u001b[0;32mdef\u001b[0m \u001b[0mextract_text\u001b[0m\u001b[0;34m(\u001b[0m\u001b[0mself\u001b[0m\u001b[0;34m,\u001b[0m \u001b[0;34m**\u001b[0m\u001b[0mkwargs\u001b[0m\u001b[0;34m)\u001b[0m\u001b[0;34m:\u001b[0m\u001b[0;34m\u001b[0m\u001b[0;34m\u001b[0m\u001b[0m\n\u001b[0;32m--> 269\u001b[0;31m         \u001b[0;32mreturn\u001b[0m \u001b[0mutils\u001b[0m\u001b[0;34m.\u001b[0m\u001b[0mextract_text\u001b[0m\u001b[0;34m(\u001b[0m\u001b[0mself\u001b[0m\u001b[0;34m.\u001b[0m\u001b[0mchars\u001b[0m\u001b[0;34m,\u001b[0m \u001b[0;34m**\u001b[0m\u001b[0mkwargs\u001b[0m\u001b[0;34m)\u001b[0m\u001b[0;34m\u001b[0m\u001b[0;34m\u001b[0m\u001b[0m\n\u001b[0m\u001b[1;32m    270\u001b[0m \u001b[0;34m\u001b[0m\u001b[0m\n\u001b[1;32m    271\u001b[0m     \u001b[0;32mdef\u001b[0m \u001b[0mextract_words\u001b[0m\u001b[0;34m(\u001b[0m\u001b[0mself\u001b[0m\u001b[0;34m,\u001b[0m \u001b[0;34m**\u001b[0m\u001b[0mkwargs\u001b[0m\u001b[0;34m)\u001b[0m\u001b[0;34m:\u001b[0m\u001b[0;34m\u001b[0m\u001b[0;34m\u001b[0m\u001b[0m\n",
            "\u001b[0;32m/usr/local/lib/python3.7/dist-packages/pdfplumber/container.py\u001b[0m in \u001b[0;36mchars\u001b[0;34m(self)\u001b[0m\n\u001b[1;32m     46\u001b[0m     \u001b[0;34m@\u001b[0m\u001b[0mproperty\u001b[0m\u001b[0;34m\u001b[0m\u001b[0;34m\u001b[0m\u001b[0m\n\u001b[1;32m     47\u001b[0m     \u001b[0;32mdef\u001b[0m \u001b[0mchars\u001b[0m\u001b[0;34m(\u001b[0m\u001b[0mself\u001b[0m\u001b[0;34m)\u001b[0m\u001b[0;34m:\u001b[0m\u001b[0;34m\u001b[0m\u001b[0;34m\u001b[0m\u001b[0m\n\u001b[0;32m---> 48\u001b[0;31m         \u001b[0;32mreturn\u001b[0m \u001b[0mself\u001b[0m\u001b[0;34m.\u001b[0m\u001b[0mobjects\u001b[0m\u001b[0;34m.\u001b[0m\u001b[0mget\u001b[0m\u001b[0;34m(\u001b[0m\u001b[0;34m\"char\"\u001b[0m\u001b[0;34m,\u001b[0m \u001b[0;34m[\u001b[0m\u001b[0;34m]\u001b[0m\u001b[0;34m)\u001b[0m\u001b[0;34m\u001b[0m\u001b[0;34m\u001b[0m\u001b[0m\n\u001b[0m\u001b[1;32m     49\u001b[0m \u001b[0;34m\u001b[0m\u001b[0m\n\u001b[1;32m     50\u001b[0m     \u001b[0;34m@\u001b[0m\u001b[0mproperty\u001b[0m\u001b[0;34m\u001b[0m\u001b[0;34m\u001b[0m\u001b[0m\n",
            "\u001b[0;32m/usr/local/lib/python3.7/dist-packages/pdfplumber/page.py\u001b[0m in \u001b[0;36mobjects\u001b[0;34m(self)\u001b[0m\n\u001b[1;32m    159\u001b[0m         \u001b[0;32mif\u001b[0m \u001b[0mhasattr\u001b[0m\u001b[0;34m(\u001b[0m\u001b[0mself\u001b[0m\u001b[0;34m,\u001b[0m \u001b[0;34m\"_objects\"\u001b[0m\u001b[0;34m)\u001b[0m\u001b[0;34m:\u001b[0m\u001b[0;34m\u001b[0m\u001b[0;34m\u001b[0m\u001b[0m\n\u001b[1;32m    160\u001b[0m             \u001b[0;32mreturn\u001b[0m \u001b[0mself\u001b[0m\u001b[0;34m.\u001b[0m\u001b[0m_objects\u001b[0m\u001b[0;34m\u001b[0m\u001b[0;34m\u001b[0m\u001b[0m\n\u001b[0;32m--> 161\u001b[0;31m         \u001b[0mself\u001b[0m\u001b[0;34m.\u001b[0m\u001b[0m_objects\u001b[0m \u001b[0;34m=\u001b[0m \u001b[0mself\u001b[0m\u001b[0;34m.\u001b[0m\u001b[0mparse_objects\u001b[0m\u001b[0;34m(\u001b[0m\u001b[0;34m)\u001b[0m\u001b[0;34m\u001b[0m\u001b[0;34m\u001b[0m\u001b[0m\n\u001b[0m\u001b[1;32m    162\u001b[0m         \u001b[0;32mreturn\u001b[0m \u001b[0mself\u001b[0m\u001b[0;34m.\u001b[0m\u001b[0m_objects\u001b[0m\u001b[0;34m\u001b[0m\u001b[0;34m\u001b[0m\u001b[0m\n\u001b[1;32m    163\u001b[0m \u001b[0;34m\u001b[0m\u001b[0m\n",
            "\u001b[0;32m/usr/local/lib/python3.7/dist-packages/pdfplumber/page.py\u001b[0m in \u001b[0;36mparse_objects\u001b[0;34m(self)\u001b[0m\n\u001b[1;32m    220\u001b[0m     \u001b[0;32mdef\u001b[0m \u001b[0mparse_objects\u001b[0m\u001b[0;34m(\u001b[0m\u001b[0mself\u001b[0m\u001b[0;34m)\u001b[0m\u001b[0;34m:\u001b[0m\u001b[0;34m\u001b[0m\u001b[0;34m\u001b[0m\u001b[0m\n\u001b[1;32m    221\u001b[0m         \u001b[0mobjects\u001b[0m \u001b[0;34m=\u001b[0m \u001b[0;34m{\u001b[0m\u001b[0;34m}\u001b[0m\u001b[0;34m\u001b[0m\u001b[0;34m\u001b[0m\u001b[0m\n\u001b[0;32m--> 222\u001b[0;31m         \u001b[0;32mfor\u001b[0m \u001b[0mobj\u001b[0m \u001b[0;32min\u001b[0m \u001b[0mself\u001b[0m\u001b[0;34m.\u001b[0m\u001b[0miter_layout_objects\u001b[0m\u001b[0;34m(\u001b[0m\u001b[0mself\u001b[0m\u001b[0;34m.\u001b[0m\u001b[0mlayout\u001b[0m\u001b[0;34m.\u001b[0m\u001b[0m_objs\u001b[0m\u001b[0;34m)\u001b[0m\u001b[0;34m:\u001b[0m\u001b[0;34m\u001b[0m\u001b[0;34m\u001b[0m\u001b[0m\n\u001b[0m\u001b[1;32m    223\u001b[0m             \u001b[0mkind\u001b[0m \u001b[0;34m=\u001b[0m \u001b[0mobj\u001b[0m\u001b[0;34m[\u001b[0m\u001b[0;34m\"object_type\"\u001b[0m\u001b[0;34m]\u001b[0m\u001b[0;34m\u001b[0m\u001b[0;34m\u001b[0m\u001b[0m\n\u001b[1;32m    224\u001b[0m             \u001b[0;32mif\u001b[0m \u001b[0mkind\u001b[0m \u001b[0;32min\u001b[0m \u001b[0;34m[\u001b[0m\u001b[0;34m\"anno\"\u001b[0m\u001b[0;34m]\u001b[0m\u001b[0;34m:\u001b[0m\u001b[0;34m\u001b[0m\u001b[0;34m\u001b[0m\u001b[0m\n",
            "\u001b[0;32m/usr/local/lib/python3.7/dist-packages/pdfplumber/page.py\u001b[0m in \u001b[0;36mlayout\u001b[0;34m(self)\u001b[0m\n\u001b[1;32m    108\u001b[0m         )\n\u001b[1;32m    109\u001b[0m         \u001b[0minterpreter\u001b[0m \u001b[0;34m=\u001b[0m \u001b[0mPDFPageInterpreter\u001b[0m\u001b[0;34m(\u001b[0m\u001b[0mself\u001b[0m\u001b[0;34m.\u001b[0m\u001b[0mpdf\u001b[0m\u001b[0;34m.\u001b[0m\u001b[0mrsrcmgr\u001b[0m\u001b[0;34m,\u001b[0m \u001b[0mdevice\u001b[0m\u001b[0;34m)\u001b[0m\u001b[0;34m\u001b[0m\u001b[0;34m\u001b[0m\u001b[0m\n\u001b[0;32m--> 110\u001b[0;31m         \u001b[0minterpreter\u001b[0m\u001b[0;34m.\u001b[0m\u001b[0mprocess_page\u001b[0m\u001b[0;34m(\u001b[0m\u001b[0mself\u001b[0m\u001b[0;34m.\u001b[0m\u001b[0mpage_obj\u001b[0m\u001b[0;34m)\u001b[0m\u001b[0;34m\u001b[0m\u001b[0;34m\u001b[0m\u001b[0m\n\u001b[0m\u001b[1;32m    111\u001b[0m         \u001b[0mself\u001b[0m\u001b[0;34m.\u001b[0m\u001b[0m_layout\u001b[0m \u001b[0;34m=\u001b[0m \u001b[0mdevice\u001b[0m\u001b[0;34m.\u001b[0m\u001b[0mget_result\u001b[0m\u001b[0;34m(\u001b[0m\u001b[0;34m)\u001b[0m\u001b[0;34m\u001b[0m\u001b[0;34m\u001b[0m\u001b[0m\n\u001b[1;32m    112\u001b[0m         \u001b[0;32mreturn\u001b[0m \u001b[0mself\u001b[0m\u001b[0;34m.\u001b[0m\u001b[0m_layout\u001b[0m\u001b[0;34m\u001b[0m\u001b[0;34m\u001b[0m\u001b[0m\n",
            "\u001b[0;32m/usr/local/lib/python3.7/dist-packages/pdfminer/pdfinterp.py\u001b[0m in \u001b[0;36mprocess_page\u001b[0;34m(self, page)\u001b[0m\n\u001b[1;32m    893\u001b[0m             \u001b[0mctm\u001b[0m \u001b[0;34m=\u001b[0m \u001b[0;34m(\u001b[0m\u001b[0;36m1\u001b[0m\u001b[0;34m,\u001b[0m \u001b[0;36m0\u001b[0m\u001b[0;34m,\u001b[0m \u001b[0;36m0\u001b[0m\u001b[0;34m,\u001b[0m \u001b[0;36m1\u001b[0m\u001b[0;34m,\u001b[0m \u001b[0;34m-\u001b[0m\u001b[0mx0\u001b[0m\u001b[0;34m,\u001b[0m \u001b[0;34m-\u001b[0m\u001b[0my0\u001b[0m\u001b[0;34m)\u001b[0m\u001b[0;34m\u001b[0m\u001b[0;34m\u001b[0m\u001b[0m\n\u001b[1;32m    894\u001b[0m         \u001b[0mself\u001b[0m\u001b[0;34m.\u001b[0m\u001b[0mdevice\u001b[0m\u001b[0;34m.\u001b[0m\u001b[0mbegin_page\u001b[0m\u001b[0;34m(\u001b[0m\u001b[0mpage\u001b[0m\u001b[0;34m,\u001b[0m \u001b[0mctm\u001b[0m\u001b[0;34m)\u001b[0m\u001b[0;34m\u001b[0m\u001b[0;34m\u001b[0m\u001b[0m\n\u001b[0;32m--> 895\u001b[0;31m         \u001b[0mself\u001b[0m\u001b[0;34m.\u001b[0m\u001b[0mrender_contents\u001b[0m\u001b[0;34m(\u001b[0m\u001b[0mpage\u001b[0m\u001b[0;34m.\u001b[0m\u001b[0mresources\u001b[0m\u001b[0;34m,\u001b[0m \u001b[0mpage\u001b[0m\u001b[0;34m.\u001b[0m\u001b[0mcontents\u001b[0m\u001b[0;34m,\u001b[0m \u001b[0mctm\u001b[0m\u001b[0;34m=\u001b[0m\u001b[0mctm\u001b[0m\u001b[0;34m)\u001b[0m\u001b[0;34m\u001b[0m\u001b[0;34m\u001b[0m\u001b[0m\n\u001b[0m\u001b[1;32m    896\u001b[0m         \u001b[0mself\u001b[0m\u001b[0;34m.\u001b[0m\u001b[0mdevice\u001b[0m\u001b[0;34m.\u001b[0m\u001b[0mend_page\u001b[0m\u001b[0;34m(\u001b[0m\u001b[0mpage\u001b[0m\u001b[0;34m)\u001b[0m\u001b[0;34m\u001b[0m\u001b[0;34m\u001b[0m\u001b[0m\n\u001b[1;32m    897\u001b[0m         \u001b[0;32mreturn\u001b[0m\u001b[0;34m\u001b[0m\u001b[0;34m\u001b[0m\u001b[0m\n",
            "\u001b[0;32m/usr/local/lib/python3.7/dist-packages/pdfminer/pdfinterp.py\u001b[0m in \u001b[0;36mrender_contents\u001b[0;34m(self, resources, streams, ctm)\u001b[0m\n\u001b[1;32m    906\u001b[0m         \u001b[0mself\u001b[0m\u001b[0;34m.\u001b[0m\u001b[0minit_resources\u001b[0m\u001b[0;34m(\u001b[0m\u001b[0mresources\u001b[0m\u001b[0;34m)\u001b[0m\u001b[0;34m\u001b[0m\u001b[0;34m\u001b[0m\u001b[0m\n\u001b[1;32m    907\u001b[0m         \u001b[0mself\u001b[0m\u001b[0;34m.\u001b[0m\u001b[0minit_state\u001b[0m\u001b[0;34m(\u001b[0m\u001b[0mctm\u001b[0m\u001b[0;34m)\u001b[0m\u001b[0;34m\u001b[0m\u001b[0;34m\u001b[0m\u001b[0m\n\u001b[0;32m--> 908\u001b[0;31m         \u001b[0mself\u001b[0m\u001b[0;34m.\u001b[0m\u001b[0mexecute\u001b[0m\u001b[0;34m(\u001b[0m\u001b[0mlist_value\u001b[0m\u001b[0;34m(\u001b[0m\u001b[0mstreams\u001b[0m\u001b[0;34m)\u001b[0m\u001b[0;34m)\u001b[0m\u001b[0;34m\u001b[0m\u001b[0;34m\u001b[0m\u001b[0m\n\u001b[0m\u001b[1;32m    909\u001b[0m         \u001b[0;32mreturn\u001b[0m\u001b[0;34m\u001b[0m\u001b[0;34m\u001b[0m\u001b[0m\n\u001b[1;32m    910\u001b[0m \u001b[0;34m\u001b[0m\u001b[0m\n",
            "\u001b[0;32m/usr/local/lib/python3.7/dist-packages/pdfminer/pdfinterp.py\u001b[0m in \u001b[0;36mexecute\u001b[0;34m(self, streams)\u001b[0m\n\u001b[1;32m    917\u001b[0m         \u001b[0;32mwhile\u001b[0m \u001b[0;36m1\u001b[0m\u001b[0;34m:\u001b[0m\u001b[0;34m\u001b[0m\u001b[0;34m\u001b[0m\u001b[0m\n\u001b[1;32m    918\u001b[0m             \u001b[0;32mtry\u001b[0m\u001b[0;34m:\u001b[0m\u001b[0;34m\u001b[0m\u001b[0;34m\u001b[0m\u001b[0m\n\u001b[0;32m--> 919\u001b[0;31m                 \u001b[0;34m(\u001b[0m\u001b[0m_\u001b[0m\u001b[0;34m,\u001b[0m \u001b[0mobj\u001b[0m\u001b[0;34m)\u001b[0m \u001b[0;34m=\u001b[0m \u001b[0mparser\u001b[0m\u001b[0;34m.\u001b[0m\u001b[0mnextobject\u001b[0m\u001b[0;34m(\u001b[0m\u001b[0;34m)\u001b[0m\u001b[0;34m\u001b[0m\u001b[0;34m\u001b[0m\u001b[0m\n\u001b[0m\u001b[1;32m    920\u001b[0m             \u001b[0;32mexcept\u001b[0m \u001b[0mPSEOF\u001b[0m\u001b[0;34m:\u001b[0m\u001b[0;34m\u001b[0m\u001b[0;34m\u001b[0m\u001b[0m\n\u001b[1;32m    921\u001b[0m                 \u001b[0;32mbreak\u001b[0m\u001b[0;34m\u001b[0m\u001b[0;34m\u001b[0m\u001b[0m\n",
            "\u001b[0;32m/usr/local/lib/python3.7/dist-packages/pdfminer/psparser.py\u001b[0m in \u001b[0;36mnextobject\u001b[0;34m(self)\u001b[0m\n\u001b[1;32m    565\u001b[0m         \"\"\"\n\u001b[1;32m    566\u001b[0m         \u001b[0;32mwhile\u001b[0m \u001b[0;32mnot\u001b[0m \u001b[0mself\u001b[0m\u001b[0;34m.\u001b[0m\u001b[0mresults\u001b[0m\u001b[0;34m:\u001b[0m\u001b[0;34m\u001b[0m\u001b[0;34m\u001b[0m\u001b[0m\n\u001b[0;32m--> 567\u001b[0;31m             \u001b[0;34m(\u001b[0m\u001b[0mpos\u001b[0m\u001b[0;34m,\u001b[0m \u001b[0mtoken\u001b[0m\u001b[0;34m)\u001b[0m \u001b[0;34m=\u001b[0m \u001b[0mself\u001b[0m\u001b[0;34m.\u001b[0m\u001b[0mnexttoken\u001b[0m\u001b[0;34m(\u001b[0m\u001b[0;34m)\u001b[0m\u001b[0;34m\u001b[0m\u001b[0;34m\u001b[0m\u001b[0m\n\u001b[0m\u001b[1;32m    568\u001b[0m             \u001b[0;32mif\u001b[0m \u001b[0misinstance\u001b[0m\u001b[0;34m(\u001b[0m\u001b[0mtoken\u001b[0m\u001b[0;34m,\u001b[0m \u001b[0;34m(\u001b[0m\u001b[0mint\u001b[0m\u001b[0;34m,\u001b[0m \u001b[0mfloat\u001b[0m\u001b[0;34m,\u001b[0m \u001b[0mbool\u001b[0m\u001b[0;34m,\u001b[0m \u001b[0mstr\u001b[0m\u001b[0;34m,\u001b[0m \u001b[0mbytes\u001b[0m\u001b[0;34m,\u001b[0m \u001b[0mPSLiteral\u001b[0m\u001b[0;34m)\u001b[0m\u001b[0;34m)\u001b[0m\u001b[0;34m:\u001b[0m\u001b[0;34m\u001b[0m\u001b[0;34m\u001b[0m\u001b[0m\n\u001b[1;32m    569\u001b[0m                 \u001b[0;31m# normal token\u001b[0m\u001b[0;34m\u001b[0m\u001b[0;34m\u001b[0m\u001b[0;34m\u001b[0m\u001b[0m\n",
            "\u001b[0;32m/usr/local/lib/python3.7/dist-packages/pdfminer/psparser.py\u001b[0m in \u001b[0;36mnexttoken\u001b[0;34m(self)\u001b[0m\n\u001b[1;32m    491\u001b[0m     \u001b[0;32mdef\u001b[0m \u001b[0mnexttoken\u001b[0m\u001b[0;34m(\u001b[0m\u001b[0mself\u001b[0m\u001b[0;34m)\u001b[0m\u001b[0;34m:\u001b[0m\u001b[0;34m\u001b[0m\u001b[0;34m\u001b[0m\u001b[0m\n\u001b[1;32m    492\u001b[0m         \u001b[0;32mwhile\u001b[0m \u001b[0;32mnot\u001b[0m \u001b[0mself\u001b[0m\u001b[0;34m.\u001b[0m\u001b[0m_tokens\u001b[0m\u001b[0;34m:\u001b[0m\u001b[0;34m\u001b[0m\u001b[0;34m\u001b[0m\u001b[0m\n\u001b[0;32m--> 493\u001b[0;31m             \u001b[0mself\u001b[0m\u001b[0;34m.\u001b[0m\u001b[0mfillbuf\u001b[0m\u001b[0;34m(\u001b[0m\u001b[0;34m)\u001b[0m\u001b[0;34m\u001b[0m\u001b[0;34m\u001b[0m\u001b[0m\n\u001b[0m\u001b[1;32m    494\u001b[0m             \u001b[0mself\u001b[0m\u001b[0;34m.\u001b[0m\u001b[0mcharpos\u001b[0m \u001b[0;34m=\u001b[0m \u001b[0mself\u001b[0m\u001b[0;34m.\u001b[0m\u001b[0m_parse1\u001b[0m\u001b[0;34m(\u001b[0m\u001b[0mself\u001b[0m\u001b[0;34m.\u001b[0m\u001b[0mbuf\u001b[0m\u001b[0;34m,\u001b[0m \u001b[0mself\u001b[0m\u001b[0;34m.\u001b[0m\u001b[0mcharpos\u001b[0m\u001b[0;34m)\u001b[0m\u001b[0;34m\u001b[0m\u001b[0;34m\u001b[0m\u001b[0m\n\u001b[1;32m    495\u001b[0m         \u001b[0mtoken\u001b[0m \u001b[0;34m=\u001b[0m \u001b[0mself\u001b[0m\u001b[0;34m.\u001b[0m\u001b[0m_tokens\u001b[0m\u001b[0;34m.\u001b[0m\u001b[0mpop\u001b[0m\u001b[0;34m(\u001b[0m\u001b[0;36m0\u001b[0m\u001b[0;34m)\u001b[0m\u001b[0;34m\u001b[0m\u001b[0;34m\u001b[0m\u001b[0m\n",
            "\u001b[0;32m/usr/local/lib/python3.7/dist-packages/pdfminer/pdfinterp.py\u001b[0m in \u001b[0;36mfillbuf\u001b[0;34m(self)\u001b[0m\n\u001b[1;32m    233\u001b[0m         \u001b[0;32mreturn\u001b[0m\u001b[0;34m\u001b[0m\u001b[0;34m\u001b[0m\u001b[0m\n\u001b[1;32m    234\u001b[0m \u001b[0;34m\u001b[0m\u001b[0m\n\u001b[0;32m--> 235\u001b[0;31m     \u001b[0;32mdef\u001b[0m \u001b[0mfillbuf\u001b[0m\u001b[0;34m(\u001b[0m\u001b[0mself\u001b[0m\u001b[0;34m)\u001b[0m\u001b[0;34m:\u001b[0m\u001b[0;34m\u001b[0m\u001b[0;34m\u001b[0m\u001b[0m\n\u001b[0m\u001b[1;32m    236\u001b[0m         \u001b[0;32mif\u001b[0m \u001b[0mself\u001b[0m\u001b[0;34m.\u001b[0m\u001b[0mcharpos\u001b[0m \u001b[0;34m<\u001b[0m \u001b[0mlen\u001b[0m\u001b[0;34m(\u001b[0m\u001b[0mself\u001b[0m\u001b[0;34m.\u001b[0m\u001b[0mbuf\u001b[0m\u001b[0;34m)\u001b[0m\u001b[0;34m:\u001b[0m\u001b[0;34m\u001b[0m\u001b[0;34m\u001b[0m\u001b[0m\n\u001b[1;32m    237\u001b[0m             \u001b[0;32mreturn\u001b[0m\u001b[0;34m\u001b[0m\u001b[0;34m\u001b[0m\u001b[0m\n",
            "\u001b[0;31mKeyboardInterrupt\u001b[0m: "
          ]
        }
      ]
    },
    {
      "cell_type": "code",
      "metadata": {
        "colab": {
          "base_uri": "https://localhost:8080/"
        },
        "id": "yvvNpPSe7NsS",
        "outputId": "76c6c5d2-d13d-48f9-923e-c6b41f760b8b"
      },
      "source": [
        "# TEST 1 Sections\n",
        "\n",
        "# Let's first replace the line breaks as the regex below can't handle line breaks. It's just easier to remove them first.\n",
        "text_cleaned = text.replace('\\n', ' ')\n",
        "\n",
        "Section_re = r'(Guideline) (\\d+\\:) (.*)'\n",
        "\n",
        "Sections = re.findall(Section_re, text_cleaned, re.IGNORECASE)\n",
        "# print(matches_group0)\n",
        "\n",
        "\n",
        "\n",
        "# Test 2 Paragraphs\n",
        "\n",
        "Paragraph_re = r'(\\d+\\.\\d+\\.).*'\n",
        "\n",
        "\n",
        "Paragraphs = re.findall(Paragraph_re, text_cleaned, re.IGNORECASE)\n",
        "# print(matches_group1)\n",
        "\n",
        "## Text after paragraphs\n",
        "Paragraph_text_re = r'(?<=\\n\\d\\.\\d\\.) [\\w+\\W*]*?(?=\\r?\\d\\.\\d\\.*)'\n",
        "Paragraph_text = re.findall(Paragraph_text_re, text_cleaned, re.IGNORECASE)\n",
        "# print(matches_group2)\n",
        "\n",
        "\n",
        "# TEST 3 Sub-letters\n",
        "\n",
        "subletters_re = r'([A-z]\\))'\n",
        "Subletters = re.findall(subletters_re, text_cleaned, re.IGNORECASE)\n",
        "# print(matches_group3)\n",
        "\n",
        "# Text afte sub-letters \n",
        "\n",
        "# This regex with match any letters capitalised or not and then everything that goes after that\n",
        "subletters_text_re_test = r'[a-zA-Z]\\)(.*)'\n",
        "Subletters_text = re.findall(subletters_text_re , text_cleaned, re.IGNORECASE)\n",
        "\n",
        "# TEST 4 sub-strings\n",
        "\n",
        "sub_letter_re = r'(?=\\b[MDCLXVI]+\\b)M{0,4}(?:CM|CD|D?C{0,3})(?:XC|XL|L?X{0,3})(?:IX|IV|V?I{0,3})'\n",
        "Substrings = re.findall(sub_letter_re, text_cleaned,  re.IGNORECASE)\n",
        "# print(matches_group5)\n",
        "\n",
        "# Test 4.1:  sub-strings text\n",
        "\n",
        "\n",
        "sub_letter_text_re = r'(?=\\b[MDCLXVI]+\\b)M{0,4}(?:CM|CD|D?C{0,3})(?:XC|XL|L?X{0,3})(?:IX|IV|V?I{0,3})(.*)'\n",
        "\n",
        "Substrings_text = re.findall(sub_letter_text_re, text_cleaned ,  re.IGNORECASE)\n",
        "# print(matches_group6)\n",
        "\n",
        "\n",
        "# PRINT\n",
        "\n",
        "print(f\"Original text (whitout line breaks):{text0_cleaned}\")\n",
        "print(\"----------------------------------------\")\n",
        "print(f\"Extracted text for Guidelines: {matches_group0}\")\n",
        "print(f\"Extracted text: {matches_group1}\")\n",
        "print(f\"Extracted text: {matches_group2}\")\n",
        "print(f\"Extracted text: {matches_group3}\")\n",
        "print(f\"Extracted text: {matches_group4_test}\")\n",
        "print(f\"Extracted text: {matches_group5}\")\n",
        "print(f\"Extracted text: {matches_group6}\")\n",
        "\n",
        "# NEXT STEPS\n",
        "# transform expression \n",
        "# def my_function(text):\n",
        "        # return \"something\"\n",
        "\n",
        "\n"
      ],
      "execution_count": 25,
      "outputs": [
        {
          "output_type": "stream",
          "text": [
            "Original text (whitout line breaks):  Guideline 9: Sectoral guideline for retail banks 9.1. For the purpose of these guidelines, retail banking means the provision of banking services to natural persons and small and medium-sized enterprises. Examples of retail banking products and services include current accounts, mortgages, savings accounts, consumer and term loans, and credit lines.  9.2. adfaadfafafsdf adfadfafas 9.3. The following factor may contribute to reducing risk: 9.6. The following factors may contribute to increasing risk a) The nature of the customer, for example: aa) The customer is a cash-intensive undertaking.  12.1 ad;   Guideline 10: haha this is a test a) The following factors may contribute to increasing risk: aa) test aaa) test1 b) the product’s features favour anonymity; c) the product allows payments from third parties that are neither associated with the product nor identified upfront, where such payments would not be expected, for example for mortgages or loans; d) the product places no restrictions on turnover, cross-border transactions or similar product features; e) new products and new business practices, including new delivery mechanisms, and the use of new or developing technologies for both new and existing products where these are not yet well understood; f) lending (including mortgages) secured against the value of assets in other jurisdictions, particularly countries where it is difficult to ascertain whether the customer has legitimate title to the collateral, or where the identities of parties guaranteeing the loan are hard to verify; g) an unusually high volume or large value of transactions  ii. The regulator states that xyz  iii. Also the Risk Factor Blabla ; iv. adaf v. ddd vi. test \n",
            "----------------------------------------\n",
            "Extracted text for Guidelines: [('Guideline', '10:', 'Sectoral guideline for electronic money issuers  10.1.  Guideline 10 provides guidelines for electronic money issuers (e-money issuers) as defined  in Article 2(3) of Directive 2009/110/EC. The level of ML/TF risk associated with electronic  money as defined in Article 2(2) of Directive 2009/110/EC (e-money) depends primarily on  the features of individual e-money products and the degree to which e-money issuers use  other persons to distribute and redeem e-money on their behalf pursuant to Article 3(4) of  Directive 2009/110/EC.  10.2.  Firms that issue e-money should consider the following risk factors and measures alongside  those set out in Title I of these guidelines. Firms whose authorisation includes the provision  of business activities as payment initiation services and account information services s should  also refer to the sectoral guideline 18. The sectoral guideline 11 for money remitters may  also be relevant in this context.  Risk factors  Product risk factors  10.3.  E-money issuers should consider the ML/TF risk related to:    thresholds;    the funding method; and    utility and negotiability.  10.4.  The following factors may contribute to increasing risk:    Thresholds: the product allows    high-value  or  unlimited-value  payments,  loading  or  redemption,  including cash withdrawal;    high number of payments, loading or redemption, including cash  withdrawal;    high or unlimited amount of funds to be stored on the e-money  product/account.    Funding method: the product can be    loaded anonymously, for example with cash, anonymous e-money  or e-money products that benefit from the exemption in Article 12  of Directive (EU) 2015/849;    funded with payments from unidentified third parties;  77   ')]\n",
            "Extracted text: ['10.1.']\n",
            "Extracted text: []\n",
            "Extracted text: ['s)', 'y)', 'U)']\n",
            "Extracted text: ['s) as defined  in Article 2(3) of Directive 2009/110/EC. The level of ML/TF risk associated with electronic  money as defined in Article 2(2) of Directive 2009/110/EC (e-money) depends primarily on  the features of individual e-money products and the degree to which e-money issuers use  other persons to distribute and redeem e-money on their behalf pursuant to Article 3(4) of  Directive 2009/110/EC.  10.2.  Firms that issue e-money should consider the following risk factors and measures alongside  those set out in Title I of these guidelines. Firms whose authorisation includes the provision  of business activities as payment initiation services and account information services s should  also refer to the sectoral guideline 18. The sectoral guideline 11 for money remitters may  also be relevant in this context.  Risk factors  Product risk factors  10.3.  E-money issuers should consider the ML/TF risk related to:    thresholds;    the funding method; and    utility and negotiability.  10.4.  The following factors may contribute to increasing risk:    Thresholds: the product allows    high-value  or  unlimited-value  payments,  loading  or  redemption,  including cash withdrawal;    high number of payments, loading or redemption, including cash  withdrawal;    high or unlimited amount of funds to be stored on the e-money  product/account.    Funding method: the product can be    loaded anonymously, for example with cash, anonymous e-money  or e-money products that benefit from the exemption in Article 12  of Directive (EU) 2015/849;    funded with payments from unidentified third parties;  77   ']\n",
            "Extracted text: ['ML', 'ML', 'I', 'ML']\n",
            "Extracted text: ['/TF RISK   ASSOCIATED WITH INDIVIDUAL BUSINESS RELATIONSHIPS AND OCCASIONAL TRANSACTIONS  Guideline 10: Sectoral guideline for electronic money issuers  10.1.  Guideline 10 provides guidelines for electronic money issuers (e-money issuers) as defined  in Article 2(3) of Directive 2009/110/EC. The level of ML/TF risk associated with electronic  money as defined in Article 2(2) of Directive 2009/110/EC (e-money) depends primarily on  the features of individual e-money products and the degree to which e-money issuers use  other persons to distribute and redeem e-money on their behalf pursuant to Article 3(4) of  Directive 2009/110/EC.  10.2.  Firms that issue e-money should consider the following risk factors and measures alongside  those set out in Title I of these guidelines. Firms whose authorisation includes the provision  of business activities as payment initiation services and account information services s should  also refer to the sectoral guideline 18. The sectoral guideline 11 for money remitters may  also be relevant in this context.  Risk factors  Product risk factors  10.3.  E-money issuers should consider the ML/TF risk related to:    thresholds;    the funding method; and    utility and negotiability.  10.4.  The following factors may contribute to increasing risk:    Thresholds: the product allows    high-value  or  unlimited-value  payments,  loading  or  redemption,  including cash withdrawal;    high number of payments, loading or redemption, including cash  withdrawal;    high or unlimited amount of funds to be stored on the e-money  product/account.    Funding method: the product can be    loaded anonymously, for example with cash, anonymous e-money  or e-money products that benefit from the exemption in Article 12  of Directive (EU) 2015/849;    funded with payments from unidentified third parties;  77   ']\n"
          ],
          "name": "stdout"
        }
      ]
    },
    {
      "cell_type": "markdown",
      "metadata": {
        "id": "wI4_gYLmCLCd"
      },
      "source": [
        "\n",
        "**Test on real PDF **"
      ]
    },
    {
      "cell_type": "code",
      "metadata": {
        "id": "GNpoA2HECe9n",
        "colab": {
          "base_uri": "https://localhost:8080/"
        },
        "outputId": "7bcdec10-36e7-4d51-e385-ad02f0ae6056"
      },
      "source": [
        "# create a series using pandas\n",
        "pd.Series(matches_group1)\n",
        "\n",
        "# create a dataframe with pandas \n",
        "\n",
        "df = pd.DataFrame(matches_group2, matches_group1 )\n",
        "\n",
        "df = df.reset_index()\n",
        "\n",
        "df.columns = [\"Paragraph\", \"Wording\"]\n",
        "\n",
        "print(df)\n",
        "\n",
        "\n",
        "# print(matches_group1)\n"
      ],
      "execution_count": 20,
      "outputs": [
        {
          "output_type": "stream",
          "text": [
            "  Paragraph                                            Wording\n",
            "0      9.1.   For the purpose of these guidelines, retail b...\n",
            "1      9.2.                        adfaadfafafsdf adfadfafas\\n\n",
            "2      9.3.   The following factor may contribute to reduci...\n",
            "3      9.6.   The following factors may contribute to incre...\n"
          ],
          "name": "stdout"
        }
      ]
    },
    {
      "cell_type": "code",
      "metadata": {
        "colab": {
          "base_uri": "https://localhost:8080/",
          "height": 249
        },
        "id": "lEU-XWfC-3sQ",
        "outputId": "c0a1f3e7-2d66-4569-bbfb-13a8f0585e1b"
      },
      "source": [
        "# read pdf\n",
        "import csv\n",
        "import pandas as pd\n",
        "\n",
        "\n",
        "Paragraph = []\n",
        "# total_check = 0 \n",
        "# use extend instead of append \n",
        "# use pandas \n",
        "# create a series based on ID\n",
        "\n",
        "# for paragraph in matches_group1:\n",
        "\n",
        "print(matches_group1)\n",
        "\n",
        "\n",
        "# needs adjustment to match my pdf\n",
        "with pdfplumber.open(EBA) as pdf:\n",
        "    pages = pdf.pages\n",
        "    for page in pdf.pages:\n",
        "        text = page.extract_text()\n",
        "        for line in text.split('\\n'):\n",
        "            print(line)\n",
        "            comp = company_re.search(line)\n",
        "            if comp:\n",
        "                vend_no, vend_name = comp.group(1), comp.group(2)\n",
        "\n",
        "            elif line.startswith('INVOICES'):\n",
        "                doctype = 'INVOICE'\n",
        "\n",
        "            elif line.startswith('CREDITNOTES'):\n",
        "                doctype = 'CREDITNOTE'\n",
        "\n",
        "            elif line_re.search(line):\n",
        "                items = line.split()\n",
        "                lines.append(Line(vend_no, vend_name, doctype, *items))\n",
        "                \n",
        "            elif line.startswith('Supplier total'):\n",
        "                tot = float(line.split()[2].replace(',', ''))\n",
        "                total_check += tot"
      ],
      "execution_count": null,
      "outputs": [
        {
          "output_type": "stream",
          "text": [
            "['9.1.', '9.2.', '9.3.', '9.6.']\n"
          ],
          "name": "stdout"
        },
        {
          "output_type": "error",
          "ename": "NameError",
          "evalue": "ignored",
          "traceback": [
            "\u001b[0;31m---------------------------------------------------------------------------\u001b[0m",
            "\u001b[0;31mNameError\u001b[0m                                 Traceback (most recent call last)",
            "\u001b[0;32m<ipython-input-17-f05463968001>\u001b[0m in \u001b[0;36m<module>\u001b[0;34m()\u001b[0m\n\u001b[1;32m     19\u001b[0m \u001b[0;34m\u001b[0m\u001b[0m\n\u001b[1;32m     20\u001b[0m \u001b[0;31m# needs adjustment to match my pdf\u001b[0m\u001b[0;34m\u001b[0m\u001b[0;34m\u001b[0m\u001b[0;34m\u001b[0m\u001b[0m\n\u001b[0;32m---> 21\u001b[0;31m \u001b[0;32mwith\u001b[0m \u001b[0mpdfplumber\u001b[0m\u001b[0;34m.\u001b[0m\u001b[0mopen\u001b[0m\u001b[0;34m(\u001b[0m\u001b[0mEBA\u001b[0m\u001b[0;34m)\u001b[0m \u001b[0;32mas\u001b[0m \u001b[0mpdf\u001b[0m\u001b[0;34m:\u001b[0m\u001b[0;34m\u001b[0m\u001b[0;34m\u001b[0m\u001b[0m\n\u001b[0m\u001b[1;32m     22\u001b[0m     \u001b[0mpages\u001b[0m \u001b[0;34m=\u001b[0m \u001b[0mpdf\u001b[0m\u001b[0;34m.\u001b[0m\u001b[0mpages\u001b[0m\u001b[0;34m\u001b[0m\u001b[0;34m\u001b[0m\u001b[0m\n\u001b[1;32m     23\u001b[0m     \u001b[0;32mfor\u001b[0m \u001b[0mpage\u001b[0m \u001b[0;32min\u001b[0m \u001b[0mpdf\u001b[0m\u001b[0;34m.\u001b[0m\u001b[0mpages\u001b[0m\u001b[0;34m:\u001b[0m\u001b[0;34m\u001b[0m\u001b[0;34m\u001b[0m\u001b[0m\n",
            "\u001b[0;31mNameError\u001b[0m: name 'EBA' is not defined"
          ]
        }
      ]
    },
    {
      "cell_type": "markdown",
      "metadata": {
        "id": "KiVGMk0wEMoj"
      },
      "source": [
        "solution from https://www.youtube.com/watch?v=syEfR1QIGcY"
      ]
    },
    {
      "cell_type": "markdown",
      "metadata": {
        "id": "mqy-rqD58gB0"
      },
      "source": [
        "**OLD Codes**"
      ]
    },
    {
      "cell_type": "markdown",
      "metadata": {
        "id": "Y96S-VrCU83J"
      },
      "source": [
        "##Questions"
      ]
    },
    {
      "cell_type": "code",
      "metadata": {
        "colab": {
          "base_uri": "https://localhost:8080/"
        },
        "id": "ojFku79nVUSM",
        "outputId": "33ea436a-848d-497e-b463-e35bfd7a1fe4"
      },
      "source": [
        "%%bash\n",
        "python --version"
      ],
      "execution_count": null,
      "outputs": [
        {
          "output_type": "stream",
          "text": [
            "Python 3.7.10\n"
          ],
          "name": "stdout"
        }
      ]
    },
    {
      "cell_type": "markdown",
      "metadata": {
        "id": "UOgQRfSVVErM"
      },
      "source": [
        "**Q. loading pip3 install**\n",
        "\n",
        "A. You mentioned you had some trouble with pip3. Pip is a way to install python libraries, pip3 refers to python version 3. If you're having issues, double check you have python version 3 installed. Python version 2 is deprecated so you should not use it anymore. However, in many cases, you have it by default.\n",
        "You can do it by openning a new terminal window on your computer and write the command  `python --version` such as below:\n",
        "(Note that I added the special command `%% bash` to simulate a terminal, but you don't need that). Feel free to also paste the erros messages you're having here so it makes easier to find out why."
      ]
    },
    {
      "cell_type": "markdown",
      "metadata": {
        "id": "rVw2NQmDNVTf"
      },
      "source": [
        "**OLD** "
      ]
    },
    {
      "cell_type": "code",
      "metadata": {
        "id": "QCmlqQMM8h_i"
      },
      "source": [
        "# creating a pdf file object \n",
        "file_path = r'/gdrive/MyDrive/Women in Tech Mentorship 2021/Project #1 /Documents/Final Report on Guidelines on revised ML TF Risk Factors.pdf'\n",
        "EBA = open(file_path, 'rb') \n",
        "  \n",
        "# creating a pdf reader object \n",
        "pdfReader = PyPDF2.PdfFileReader(EBA) \n",
        "  \n",
        "# printing number of pages in pdf file \n",
        "print(pdfReader.numPages) \n",
        "  \n",
        "# creating a page object \n",
        "pageObj = pdfReader.getPage(67) \n",
        "  \n",
        "# extracting text from page \n",
        "print(pageObj.extractText()) \n",
        "  \n",
        "# closing the pdf file object \n",
        "EBA.close() \n",
        "# remember to close later\n"
      ],
      "execution_count": null,
      "outputs": []
    },
    {
      "cell_type": "code",
      "metadata": {
        "id": "nCBWd3ki1zaP",
        "colab": {
          "base_uri": "https://localhost:8080/"
        },
        "outputId": "1e91d965-97e1-49ab-f72b-e7d812e1c31c"
      },
      "source": [
        "# Find new library \n",
        "\n",
        "EBA1 = open(file_path, 'rb') \n",
        "  \n",
        "# creating a pdf reader object \n",
        "pdfReader = PyPDF2.PdfFileReader(EBA1) \n",
        "  \n",
        "# printing number of pages in pdf file \n",
        "# print(pdfReader.numPages) \n",
        "  \n",
        "# creating a page object \n",
        "pageObj = pdfReader.getPage(76) \n",
        "  \n",
        "# extracting text from page \n",
        "# print(pageObj.extractText()) \n",
        "\n",
        "str_page_Obj = str(pageObj.extractText())\n",
        "print(str_page_Obj)\n",
        "\n",
        "\n",
        "# split: with dot is fine \n",
        "\n",
        "# PROBLEM: Does not extract the numbers before the text, ie a) \n",
        "# Try different library "
      ],
      "execution_count": 22,
      "outputs": [
        {
          "output_type": "stream",
          "text": [
            "FINAL REPORT ON GUID\n",
            "ELINES ON CUSTOMER D\n",
            "UE DILIGENCE AND THE\n",
            " \n",
            "FACTOR\n",
            "S CREDIT \n",
            " \n",
            "AND FINANCIAL INSTIT\n",
            "UTIONS SHOULD CONSID\n",
            "ER WHEN ASSESSING TH\n",
            "E \n",
            "ML/TF\n",
            " \n",
            "RISK \n",
            " \n",
            "ASSOCIATED WITH INDI\n",
            "VIDUAL BUSINESS RELA\n",
            "TIONSHIPS AND OCCASI\n",
            "ONAL TRANSACTION\n",
            "S\n",
            " \n",
            "77\n",
            " \n",
            " \n",
            "Guideline 10: Sectoral guideline for electronic money issuers\n",
            " \n",
            "10.1.\n",
            " \n",
            "Guideline 10\n",
            " \n",
            "provides guidelines for electronic money issuers (e\n",
            "-\n",
            "money issuers) as defined \n",
            "in Article 2(3) of Directive 2009/110/EC. The level of ML/TF risk associated with electronic \n",
            "money\n",
            " \n",
            "as defined in Article 2(2) of Directive 2009/110/EC\n",
            " \n",
            "(e\n",
            "-\n",
            "money) depends primaril\n",
            "y on \n",
            "the features of individual e\n",
            "-\n",
            "money products and the degree to which e\n",
            "-\n",
            "money issuers use \n",
            "other persons to distribute and redeem e\n",
            "-\n",
            "money on their behalf\n",
            " \n",
            "pursuant to Article 3(4) of \n",
            "Directive 2009/110/EC\n",
            ".\n",
            " \n",
            "10.2.\n",
            " \n",
            "Firms that issue e\n",
            "-\n",
            "money should consider the foll\n",
            "owing risk factors and measures alongside \n",
            "those set out in Title I of these guidelines. Firms whose authorisation includes the provision \n",
            "of business activities as \n",
            "payment\n",
            " \n",
            "initiation services and account information services s should \n",
            "also refer to the secto\n",
            "ral guideline 18. The sectoral guideline 11 for money remitters \n",
            "may \n",
            "also be\n",
            " \n",
            "relevant in this context.\n",
            " \n",
            "Risk\n",
            " \n",
            "factors\n",
            " \n",
            "Product risk factors\n",
            " \n",
            "10.3.\n",
            " \n",
            "E\n",
            "-\n",
            "money issuers\n",
            " \n",
            "should consider\n",
            " \n",
            "the\n",
            " \n",
            "ML/TF risk related to:\n",
            " \n",
            " \n",
            "thresholds;\n",
            " \n",
            " \n",
            "the funding method; and\n",
            " \n",
            " \n",
            "utility and negotiability\n",
            ".\n",
            " \n",
            "10.4.\n",
            " \n",
            "The\n",
            " \n",
            "following factors\n",
            " \n",
            "may\n",
            " \n",
            "contribute\n",
            " \n",
            "to increasing \n",
            "risk:\n",
            " \n",
            " \n",
            "Thresholds:\n",
            " \n",
            "the\n",
            " \n",
            "product\n",
            " \n",
            "allows\n",
            " \n",
            " \n",
            "high\n",
            "-\n",
            "value or unlimited\n",
            "-\n",
            "value payments, loading or redemption, \n",
            "including cash withdrawal;\n",
            " \n",
            " \n",
            "high number of payments, loading or redemption, including cash \n",
            "withdrawal;\n",
            " \n",
            " \n",
            "high or unlimited amount of funds to be stored on the e\n",
            "-\n",
            "money \n",
            "product/account.\n",
            " \n",
            " \n",
            "Funding method:\n",
            " \n",
            "the\n",
            " \n",
            "product\n",
            " \n",
            "can be\n",
            " \n",
            " \n",
            "loaded\n",
            " \n",
            "anonymously,\n",
            " \n",
            "for\n",
            " \n",
            "example\n",
            " \n",
            "with\n",
            " \n",
            "cash,\n",
            " \n",
            "anonymous\n",
            " \n",
            "e\n",
            "-\n",
            "money\n",
            " \n",
            "or\n",
            " \n",
            "e\n",
            "-\n",
            "money\n",
            " \n",
            "products\n",
            " \n",
            "that\n",
            " \n",
            "benefit\n",
            " \n",
            "from\n",
            " \n",
            "the\n",
            " \n",
            "exemption\n",
            " \n",
            "in\n",
            " \n",
            "Article 12\n",
            " \n",
            "of\n",
            " \n",
            "Directive\n",
            " \n",
            "(EU)\n",
            " \n",
            "2015/849;\n",
            " \n",
            " \n",
            "funded with payments \n",
            "from\n",
            " \n",
            "unidentified\n",
            " \n",
            "third parties;\n",
            " \n",
            "\n"
          ],
          "name": "stdout"
        }
      ]
    },
    {
      "cell_type": "code",
      "metadata": {
        "id": "0kFGw9sBNFfC"
      },
      "source": [
        "\n",
        "\n",
        "text0 = \"\"\"\n",
        "\n",
        "Guideline 9: Sectoral guideline for retail banks\n",
        "9.1. For the purpose of these guidelines, retail banking means the provision of banking services\n",
        "to natural persons and small and medium-sized enterprises. Examples of retail banking\n",
        "products and services include current accounts, mortgages, savings accounts, consumer and\n",
        "term loans, and credit lines.\n",
        "\n",
        "9.2. adfaadfafafsdf adfadfafas\n",
        "9.3. The following factor may contribute to reducing risk:\n",
        "9.6. The following factors may contribute to increasing risk\n",
        "a) The nature of the customer, for example:\n",
        "aa) The customer is a cash-intensive undertaking.\n",
        "\n",
        "12.1 ad; \n",
        "\n",
        "Guideline 10: haha this is a test\n",
        "a) The following factors may contribute to increasing risk:\n",
        "aa) test\n",
        "aaa) test1\n",
        "b) the product’s features favour anonymity;\n",
        "c) the product allows payments from third parties that are neither associated\n",
        "with the product nor identified upfront, where such payments would not be\n",
        "expected, for example for mortgages or loans;\n",
        "d) the product places no restrictions on turnover, cross-border transactions or\n",
        "similar product features;\n",
        "e) new products and new business practices, including new delivery mechanisms,\n",
        "and the use of new or developing technologies for both new and existing\n",
        "products where these are not yet well understood;\n",
        "f) lending (including mortgages) secured against the value of assets in other\n",
        "jurisdictions, particularly countries where it is difficult to ascertain whether the\n",
        "customer has legitimate title to the collateral, or where the identities of parties\n",
        "guaranteeing the loan are hard to verify;\n",
        "g) an unusually high volume or large value of transactions\n",
        "\n",
        "ii. The regulator states that xyz \n",
        "iii. Also the Risk Factor Blabla ;\n",
        "iv. adaf\n",
        "v. ddd\n",
        "vi. test \"\"\"\n",
        "\n"
      ],
      "execution_count": 19,
      "outputs": []
    }
  ]
}